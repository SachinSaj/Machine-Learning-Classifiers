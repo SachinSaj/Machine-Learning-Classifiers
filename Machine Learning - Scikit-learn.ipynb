{
 "cells": [
  {
   "cell_type": "markdown",
   "metadata": {},
   "source": [
    "# Machine Learning"
   ]
  },
  {
   "cell_type": "markdown",
   "metadata": {},
   "source": [
    "### Machine Learning Classifier\n",
    "- Logistic Regression\n",
    "- Guassian Naive Bayes\n",
    "- KNN\n",
    "- Decision Tree\n",
    "- AdaBoost\n",
    "- Random Forest\n",
    "- SVM"
   ]
  },
  {
   "cell_type": "code",
   "execution_count": 8,
   "metadata": {},
   "outputs": [],
   "source": [
    "import numpy as np\n",
    "from sklearn.preprocessing import Normalizer\n",
    "from sklearn.linear_model import LogisticRegression\n",
    "from sklearn.model_selection import train_test_split\n",
    "from sklearn.tree import DecisionTreeClassifier\n",
    "from sklearn.svm import SVC\n",
    "from sklearn import svm\n",
    "from sklearn.ensemble import AdaBoostClassifier\n",
    "from sklearn.ensemble import RandomForestClassifier\n",
    "from sklearn.metrics import (precision_score,  recall_score, f1_score, accuracy_score, mean_squared_error, mean_absolute_error)\n",
    "from sklearn.neighbors import KNeighborsClassifier\n",
    "from sklearn.naive_bayes import GaussianNB\n",
    "import pandas as pd"
   ]
  },
  {
   "cell_type": "code",
   "execution_count": 32,
   "metadata": {},
   "outputs": [],
   "source": [
    "data = np.loadtxt('pima-indians-diabetes.csv', delimiter=',') # Loading the data"
   ]
  },
  {
   "cell_type": "code",
   "execution_count": 33,
   "metadata": {},
   "outputs": [
    {
     "data": {
      "text/plain": [
       "array([[  6.   , 148.   ,  72.   , ...,   0.627,  50.   ,   1.   ],\n",
       "       [  1.   ,  85.   ,  66.   , ...,   0.351,  31.   ,   0.   ],\n",
       "       [  8.   , 183.   ,  64.   , ...,   0.672,  32.   ,   1.   ],\n",
       "       ...,\n",
       "       [  5.   , 121.   ,  72.   , ...,   0.245,  30.   ,   0.   ],\n",
       "       [  1.   , 126.   ,  60.   , ...,   0.349,  47.   ,   1.   ],\n",
       "       [  1.   ,  93.   ,  70.   , ...,   0.315,  23.   ,   0.   ]])"
      ]
     },
     "execution_count": 33,
     "metadata": {},
     "output_type": "execute_result"
    }
   ],
   "source": [
    "data # Showing the data"
   ]
  },
  {
   "cell_type": "code",
   "execution_count": 35,
   "metadata": {},
   "outputs": [],
   "source": [
    "# Spliting the data.\n",
    "X = data[:,0:7]\n",
    "Y = data[:,8]"
   ]
  },
  {
   "cell_type": "code",
   "execution_count": 39,
   "metadata": {},
   "outputs": [],
   "source": [
    "# Normailizing the data\n",
    "scalar = Normalizer().fit(X)\n",
    "X = scalar.transform(X)"
   ]
  },
  {
   "cell_type": "code",
   "execution_count": 41,
   "metadata": {},
   "outputs": [],
   "source": [
    "# train test split\n",
    "x_train, x_test, y_train, y_test = train_test_split(X,Y, test_size = 20, random_state = 42)"
   ]
  },
  {
   "cell_type": "markdown",
   "metadata": {},
   "source": [
    "#### Logistic Regression"
   ]
  },
  {
   "cell_type": "code",
   "execution_count": 43,
   "metadata": {},
   "outputs": [
    {
     "name": "stdout",
     "output_type": "stream",
     "text": [
      "Accuracy 0.750000\n",
      "Recall 0.200000\n",
      "Precision 0.500000\n",
      "F1_Scaore 0.285714\n"
     ]
    },
    {
     "name": "stderr",
     "output_type": "stream",
     "text": [
      "C:\\ProgramData\\Anaconda3\\lib\\site-packages\\sklearn\\linear_model\\logistic.py:433: FutureWarning: Default solver will be changed to 'lbfgs' in 0.22. Specify a solver to silence this warning.\n",
      "  FutureWarning)\n"
     ]
    }
   ],
   "source": [
    "model = LogisticRegression()\n",
    "model.fit(x_train,y_train)\n",
    "\n",
    "expected = y_test\n",
    "predicted = model.predict(x_test)\n",
    "\n",
    "y_test1 = expected\n",
    "y_pred = predicted\n",
    "\n",
    "accuracy = accuracy_score(y_test1, y_pred)\n",
    "recall = recall_score(y_test1,y_pred, average = \"binary\")\n",
    "precision = precision_score(y_test1, y_pred, average = \"binary\")\n",
    "f1 = f1_score(y_test1,y_pred, average = \"binary\")\n",
    "\n",
    "print(\"Accuracy %f\"%accuracy)\n",
    "print(\"Recall %f\"%recall)\n",
    "print(\"Precision %f\"%precision)\n",
    "print(\"F1_Scaore %f\"%f1)"
   ]
  },
  {
   "cell_type": "markdown",
   "metadata": {},
   "source": [
    "#### Guassian Naive Bayes "
   ]
  },
  {
   "cell_type": "code",
   "execution_count": 48,
   "metadata": {},
   "outputs": [
    {
     "name": "stdout",
     "output_type": "stream",
     "text": [
      "Accuracy 0.700000\n",
      "Recall 0.400000\n",
      "Precision 0.400000\n",
      "F1_Scaore 0.400000\n"
     ]
    }
   ],
   "source": [
    "model = GaussianNB()\n",
    "model.fit(x_train,y_train)\n",
    "\n",
    "expected = y_test\n",
    "predicted = model.predict(x_test)\n",
    "\n",
    "y_test1 = expected\n",
    "y_pred = predicted\n",
    "\n",
    "accuracy = accuracy_score(y_test1,y_pred)\n",
    "recall = recall_score(y_test1,y_pred,average=\"binary\")\n",
    "precision = precision_score(y_test1,y_pred, average=\"binary\")\n",
    "f1 = f1_score(y_test1,y_pred,average=\"binary\")\n",
    "\n",
    "print(\"Accuracy %f\"%accuracy)\n",
    "print(\"Recall %f\"%recall)\n",
    "print(\"Precision %f\"%precision)\n",
    "print(\"F1_Scaore %f\"%f1)"
   ]
  },
  {
   "cell_type": "markdown",
   "metadata": {},
   "source": [
    "#### KNN "
   ]
  },
  {
   "cell_type": "code",
   "execution_count": 51,
   "metadata": {},
   "outputs": [
    {
     "name": "stdout",
     "output_type": "stream",
     "text": [
      "Accuracy 0.550000\n",
      "Recall 0.200000\n",
      "Precision 0.166667\n",
      "F1_Scaore 0.181818\n"
     ]
    }
   ],
   "source": [
    "model = KNeighborsClassifier()\n",
    "model.fit(x_train,y_train)\n",
    "\n",
    "expected = y_test\n",
    "predicted = model.predict(x_test)\n",
    "\n",
    "y_test1 = expected\n",
    "y_pred = predicted\n",
    "\n",
    "accuracy = accuracy_score(y_test1, y_pred)\n",
    "recall = recall_score(y_test1, y_pred, average = \"binary\")\n",
    "precision = precision_score(y_test1, y_pred, average = \"binary\")\n",
    "f1 = f1_score(y_test1,y_pred, average=\"binary\")\n",
    "\n",
    "print(\"Accuracy %f\"%accuracy)\n",
    "print(\"Recall %f\"%recall)\n",
    "print(\"Precision %f\"%precision)\n",
    "print(\"F1_Scaore %f\"%f1)"
   ]
  },
  {
   "cell_type": "markdown",
   "metadata": {},
   "source": [
    "#### Decision Tree"
   ]
  },
  {
   "cell_type": "code",
   "execution_count": 52,
   "metadata": {},
   "outputs": [
    {
     "name": "stdout",
     "output_type": "stream",
     "text": [
      "DecisionTreeClassifier(class_weight=None, criterion='gini', max_depth=None,\n",
      "            max_features=None, max_leaf_nodes=None,\n",
      "            min_impurity_decrease=0.0, min_impurity_split=None,\n",
      "            min_samples_leaf=1, min_samples_split=2,\n",
      "            min_weight_fraction_leaf=0.0, presort=False, random_state=None,\n",
      "            splitter='best')\n",
      "Accuracy 0.550000\n",
      "Recall 0.200000\n",
      "Precision 0.166667\n",
      "F1_Scaore 0.181818\n"
     ]
    }
   ],
   "source": [
    "model = DecisionTreeClassifier()\n",
    "model.fit(x_train,y_train)\n",
    "print(model)\n",
    "\n",
    "expected = y_test\n",
    "predicted = model.predict(x_test)\n",
    "\n",
    "accuracy = accuracy_score(y_test1, y_pred)\n",
    "recall = recall_score(y_test1, y_pred, average = \"binary\")\n",
    "precision = precision_score(y_test1, y_pred, average = \"binary\")\n",
    "f1 = f1_score(y_test1,y_pred, average=\"binary\")\n",
    "\n",
    "print(\"Accuracy %f\"%accuracy)\n",
    "print(\"Recall %f\"%recall)\n",
    "print(\"Precision %f\"%precision)\n",
    "print(\"F1_Scaore %f\"%f1)"
   ]
  },
  {
   "cell_type": "markdown",
   "metadata": {},
   "source": [
    "#### Ada boost Classifier"
   ]
  },
  {
   "cell_type": "code",
   "execution_count": 54,
   "metadata": {},
   "outputs": [
    {
     "name": "stdout",
     "output_type": "stream",
     "text": [
      "AdaBoostClassifier(algorithm='SAMME.R', base_estimator=None,\n",
      "          learning_rate=1.0, n_estimators=5, random_state=None)\n",
      "Accuracy 0.550000\n",
      "Recall 0.200000\n",
      "Precision 0.166667\n",
      "F1_Scaore 0.181818\n"
     ]
    }
   ],
   "source": [
    "model = AdaBoostClassifier(n_estimators=5)\n",
    "model.fit(x_train,y_train)\n",
    "print(model)\n",
    "\n",
    "expected = y_test\n",
    "predicted = model.predict(x_test)\n",
    "\n",
    "accuracy = accuracy_score(y_test1, y_pred)\n",
    "recall = recall_score(y_test1, y_pred, average = \"binary\")\n",
    "precision = precision_score(y_test1, y_pred, average = \"binary\")\n",
    "f1 = f1_score(y_test1,y_pred, average=\"binary\")\n",
    "\n",
    "print(\"Accuracy %f\"%accuracy)\n",
    "print(\"Recall %f\"%recall)\n",
    "print(\"Precision %f\"%precision)\n",
    "print(\"F1_Scaore %f\"%f1)"
   ]
  },
  {
   "cell_type": "markdown",
   "metadata": {},
   "source": [
    "#### Random Forest "
   ]
  },
  {
   "cell_type": "code",
   "execution_count": 55,
   "metadata": {},
   "outputs": [
    {
     "name": "stdout",
     "output_type": "stream",
     "text": [
      "RandomForestClassifier(bootstrap=True, class_weight=None, criterion='gini',\n",
      "            max_depth=None, max_features='auto', max_leaf_nodes=None,\n",
      "            min_impurity_decrease=0.0, min_impurity_split=None,\n",
      "            min_samples_leaf=1, min_samples_split=2,\n",
      "            min_weight_fraction_leaf=0.0, n_estimators=5, n_jobs=None,\n",
      "            oob_score=False, random_state=None, verbose=0,\n",
      "            warm_start=False)\n",
      "Accuracy 0.550000\n",
      "Recall 0.200000\n",
      "Precision 0.166667\n",
      "F1_Scaore 0.181818\n"
     ]
    }
   ],
   "source": [
    "model = RandomForestClassifier(n_estimators=5)\n",
    "model.fit(x_train,y_train)\n",
    "print(model)\n",
    "\n",
    "expected = y_test\n",
    "predicted = model.predict(x_test)\n",
    "\n",
    "accuracy = accuracy_score(y_test1, y_pred)\n",
    "recall = recall_score(y_test1, y_pred, average = \"binary\")\n",
    "precision = precision_score(y_test1, y_pred, average = \"binary\")\n",
    "f1 = f1_score(y_test1,y_pred, average=\"binary\")\n",
    "\n",
    "print(\"Accuracy %f\"%accuracy)\n",
    "print(\"Recall %f\"%recall)\n",
    "print(\"Precision %f\"%precision)\n",
    "print(\"F1_Scaore %f\"%f1)"
   ]
  },
  {
   "cell_type": "markdown",
   "metadata": {},
   "source": [
    "#### SVM "
   ]
  },
  {
   "cell_type": "code",
   "execution_count": 57,
   "metadata": {},
   "outputs": [
    {
     "name": "stdout",
     "output_type": "stream",
     "text": [
      "SVC(C=1.0, cache_size=200, class_weight=None, coef0=0.0,\n",
      "  decision_function_shape='ovr', degree=3, gamma='auto_deprecated',\n",
      "  kernel='rbf', max_iter=-1, probability=False, random_state=None,\n",
      "  shrinking=True, tol=0.001, verbose=False)\n",
      "Accuracy 0.750000\n",
      "Recall 0.000000\n",
      "Precision 0.000000\n",
      "F1_Scaore 0.000000\n"
     ]
    },
    {
     "name": "stderr",
     "output_type": "stream",
     "text": [
      "C:\\ProgramData\\Anaconda3\\lib\\site-packages\\sklearn\\svm\\base.py:196: FutureWarning: The default value of gamma will change from 'auto' to 'scale' in version 0.22 to account better for unscaled features. Set gamma explicitly to 'auto' or 'scale' to avoid this warning.\n",
      "  \"avoid this warning.\", FutureWarning)\n",
      "C:\\ProgramData\\Anaconda3\\lib\\site-packages\\sklearn\\metrics\\classification.py:1143: UndefinedMetricWarning: Precision is ill-defined and being set to 0.0 due to no predicted samples.\n",
      "  'precision', 'predicted', average, warn_for)\n",
      "C:\\ProgramData\\Anaconda3\\lib\\site-packages\\sklearn\\metrics\\classification.py:1143: UndefinedMetricWarning: F-score is ill-defined and being set to 0.0 due to no predicted samples.\n",
      "  'precision', 'predicted', average, warn_for)\n"
     ]
    }
   ],
   "source": [
    "model = svm.SVC(kernel = 'rbf')\n",
    "model.fit(x_train,y_train)\n",
    "print(model)\n",
    "\n",
    "expected = y_test\n",
    "predicted = model.predict(x_test)\n",
    "\n",
    "y_test1 = expected\n",
    "y_pred = predicted\n",
    "\n",
    "accuracy = accuracy_score(y_test1,y_pred)\n",
    "recall = recall_score(y_test1,y_pred, average = \"binary\")\n",
    "precision = precision_score(y_test1, y_pred, average=\"binary\")\n",
    "f1 = f1_score(y_test1, y_pred, average=\"binary\")\n",
    "\n",
    "print(\"Accuracy %f\"%accuracy)\n",
    "print(\"Recall %f\"%recall)\n",
    "print(\"Precision %f\"%precision)\n",
    "print(\"F1_Scaore %f\"%f1)"
   ]
  },
  {
   "cell_type": "code",
   "execution_count": 58,
   "metadata": {},
   "outputs": [
    {
     "name": "stdout",
     "output_type": "stream",
     "text": [
      "SVC(C=1000, cache_size=200, class_weight=None, coef0=0.0,\n",
      "  decision_function_shape='ovr', degree=3, gamma='auto_deprecated',\n",
      "  kernel='linear', max_iter=-1, probability=False, random_state=None,\n",
      "  shrinking=True, tol=0.001, verbose=False)\n",
      "Accuracy 0.750000\n",
      "Recall 0.200000\n",
      "Precision 0.500000\n",
      "F1_Scaore 0.285714\n"
     ]
    }
   ],
   "source": [
    "model = svm.SVC(kernel = 'linear', C=1000)\n",
    "model.fit(x_train,y_train)\n",
    "print(model)\n",
    "\n",
    "expected = y_test\n",
    "predicted = model.predict(x_test)\n",
    "\n",
    "y_test1 = expected\n",
    "y_pred = predicted\n",
    "\n",
    "accuracy = accuracy_score(y_test1,y_pred)\n",
    "recall = recall_score(y_test1,y_pred, average = \"binary\")\n",
    "precision = precision_score(y_test1, y_pred, average=\"binary\")\n",
    "f1 = f1_score(y_test1, y_pred, average=\"binary\")\n",
    "\n",
    "print(\"Accuracy %f\"%accuracy)\n",
    "print(\"Recall %f\"%recall)\n",
    "print(\"Precision %f\"%precision)\n",
    "print(\"F1_Scaore %f\"%f1)"
   ]
  },
  {
   "cell_type": "code",
   "execution_count": null,
   "metadata": {},
   "outputs": [],
   "source": []
  }
 ],
 "metadata": {
  "kernelspec": {
   "display_name": "Python 3",
   "language": "python",
   "name": "python3"
  },
  "language_info": {
   "codemirror_mode": {
    "name": "ipython",
    "version": 3
   },
   "file_extension": ".py",
   "mimetype": "text/x-python",
   "name": "python",
   "nbconvert_exporter": "python",
   "pygments_lexer": "ipython3",
   "version": "3.7.3"
  }
 },
 "nbformat": 4,
 "nbformat_minor": 2
}
